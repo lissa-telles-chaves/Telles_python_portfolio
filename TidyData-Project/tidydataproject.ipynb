{
 "cells": [
  {
   "cell_type": "markdown",
   "metadata": {},
   "source": [
    "import all the necessary libraries"
   ]
  },
  {
   "cell_type": "code",
   "execution_count": 61,
   "metadata": {},
   "outputs": [],
   "source": [
    "import streamlit as st\n",
    "import pandas as pd\n",
    "import seaborn as sns\n",
    "import numpy as np\n",
    "import matplotlib.pyplot as plt\n"
   ]
  },
  {
   "cell_type": "markdown",
   "metadata": {},
   "source": [
    "read dataset"
   ]
  },
  {
   "cell_type": "code",
   "execution_count": 18,
   "metadata": {},
   "outputs": [],
   "source": [
    "df = pd.read_csv(\"/Users/lissachaves/Documents/GitHub/TELLES_Python_portfolio/TidyData-Project/olympics_08_medalists.csv\")"
   ]
  },
  {
   "cell_type": "markdown",
   "metadata": {},
   "source": [
    "check dataset"
   ]
  },
  {
   "cell_type": "code",
   "execution_count": 4,
   "metadata": {},
   "outputs": [
    {
     "data": {
      "text/html": [
       "<div>\n",
       "<style scoped>\n",
       "    .dataframe tbody tr th:only-of-type {\n",
       "        vertical-align: middle;\n",
       "    }\n",
       "\n",
       "    .dataframe tbody tr th {\n",
       "        vertical-align: top;\n",
       "    }\n",
       "\n",
       "    .dataframe thead th {\n",
       "        text-align: right;\n",
       "    }\n",
       "</style>\n",
       "<table border=\"1\" class=\"dataframe\">\n",
       "  <thead>\n",
       "    <tr style=\"text-align: right;\">\n",
       "      <th></th>\n",
       "      <th>medalist_name</th>\n",
       "      <th>male_archery</th>\n",
       "      <th>female_archery</th>\n",
       "      <th>male_athletics</th>\n",
       "      <th>female_athletics</th>\n",
       "      <th>male_badminton</th>\n",
       "      <th>female_badminton</th>\n",
       "      <th>male_baseball</th>\n",
       "      <th>male_basketball</th>\n",
       "      <th>female_basketball</th>\n",
       "      <th>...</th>\n",
       "      <th>female_beach volleyball</th>\n",
       "      <th>male_volleyball</th>\n",
       "      <th>female_volleyball</th>\n",
       "      <th>male_water polo</th>\n",
       "      <th>female_water polo</th>\n",
       "      <th>male_weightlifting</th>\n",
       "      <th>female_weightlifting</th>\n",
       "      <th>male_freestyle wrestling</th>\n",
       "      <th>female_freestyle wrestling</th>\n",
       "      <th>male_greco-roman wrestling</th>\n",
       "    </tr>\n",
       "  </thead>\n",
       "  <tbody>\n",
       "    <tr>\n",
       "      <th>0</th>\n",
       "      <td>Aaron Armstrong</td>\n",
       "      <td>NaN</td>\n",
       "      <td>NaN</td>\n",
       "      <td>gold</td>\n",
       "      <td>NaN</td>\n",
       "      <td>NaN</td>\n",
       "      <td>NaN</td>\n",
       "      <td>NaN</td>\n",
       "      <td>NaN</td>\n",
       "      <td>NaN</td>\n",
       "      <td>...</td>\n",
       "      <td>NaN</td>\n",
       "      <td>NaN</td>\n",
       "      <td>NaN</td>\n",
       "      <td>NaN</td>\n",
       "      <td>NaN</td>\n",
       "      <td>NaN</td>\n",
       "      <td>NaN</td>\n",
       "      <td>NaN</td>\n",
       "      <td>NaN</td>\n",
       "      <td>NaN</td>\n",
       "    </tr>\n",
       "    <tr>\n",
       "      <th>1</th>\n",
       "      <td>Aaron Peirsol</td>\n",
       "      <td>NaN</td>\n",
       "      <td>NaN</td>\n",
       "      <td>NaN</td>\n",
       "      <td>NaN</td>\n",
       "      <td>NaN</td>\n",
       "      <td>NaN</td>\n",
       "      <td>NaN</td>\n",
       "      <td>NaN</td>\n",
       "      <td>NaN</td>\n",
       "      <td>...</td>\n",
       "      <td>NaN</td>\n",
       "      <td>NaN</td>\n",
       "      <td>NaN</td>\n",
       "      <td>NaN</td>\n",
       "      <td>NaN</td>\n",
       "      <td>NaN</td>\n",
       "      <td>NaN</td>\n",
       "      <td>NaN</td>\n",
       "      <td>NaN</td>\n",
       "      <td>NaN</td>\n",
       "    </tr>\n",
       "    <tr>\n",
       "      <th>2</th>\n",
       "      <td>Abdullo Tangriev</td>\n",
       "      <td>NaN</td>\n",
       "      <td>NaN</td>\n",
       "      <td>NaN</td>\n",
       "      <td>NaN</td>\n",
       "      <td>NaN</td>\n",
       "      <td>NaN</td>\n",
       "      <td>NaN</td>\n",
       "      <td>NaN</td>\n",
       "      <td>NaN</td>\n",
       "      <td>...</td>\n",
       "      <td>NaN</td>\n",
       "      <td>NaN</td>\n",
       "      <td>NaN</td>\n",
       "      <td>NaN</td>\n",
       "      <td>NaN</td>\n",
       "      <td>NaN</td>\n",
       "      <td>NaN</td>\n",
       "      <td>NaN</td>\n",
       "      <td>NaN</td>\n",
       "      <td>NaN</td>\n",
       "    </tr>\n",
       "    <tr>\n",
       "      <th>3</th>\n",
       "      <td>Abeer Abdelrahman</td>\n",
       "      <td>NaN</td>\n",
       "      <td>NaN</td>\n",
       "      <td>NaN</td>\n",
       "      <td>NaN</td>\n",
       "      <td>NaN</td>\n",
       "      <td>NaN</td>\n",
       "      <td>NaN</td>\n",
       "      <td>NaN</td>\n",
       "      <td>NaN</td>\n",
       "      <td>...</td>\n",
       "      <td>NaN</td>\n",
       "      <td>NaN</td>\n",
       "      <td>NaN</td>\n",
       "      <td>NaN</td>\n",
       "      <td>NaN</td>\n",
       "      <td>NaN</td>\n",
       "      <td>bronze</td>\n",
       "      <td>NaN</td>\n",
       "      <td>NaN</td>\n",
       "      <td>NaN</td>\n",
       "    </tr>\n",
       "    <tr>\n",
       "      <th>4</th>\n",
       "      <td>Abhinav</td>\n",
       "      <td>NaN</td>\n",
       "      <td>NaN</td>\n",
       "      <td>NaN</td>\n",
       "      <td>NaN</td>\n",
       "      <td>NaN</td>\n",
       "      <td>NaN</td>\n",
       "      <td>NaN</td>\n",
       "      <td>NaN</td>\n",
       "      <td>NaN</td>\n",
       "      <td>...</td>\n",
       "      <td>NaN</td>\n",
       "      <td>NaN</td>\n",
       "      <td>NaN</td>\n",
       "      <td>NaN</td>\n",
       "      <td>NaN</td>\n",
       "      <td>NaN</td>\n",
       "      <td>NaN</td>\n",
       "      <td>NaN</td>\n",
       "      <td>NaN</td>\n",
       "      <td>NaN</td>\n",
       "    </tr>\n",
       "  </tbody>\n",
       "</table>\n",
       "<p>5 rows × 71 columns</p>\n",
       "</div>"
      ],
      "text/plain": [
       "       medalist_name male_archery female_archery male_athletics  \\\n",
       "0    Aaron Armstrong          NaN            NaN           gold   \n",
       "1      Aaron Peirsol          NaN            NaN            NaN   \n",
       "2   Abdullo Tangriev          NaN            NaN            NaN   \n",
       "3  Abeer Abdelrahman          NaN            NaN            NaN   \n",
       "4            Abhinav          NaN            NaN            NaN   \n",
       "\n",
       "  female_athletics male_badminton female_badminton male_baseball  \\\n",
       "0              NaN            NaN              NaN           NaN   \n",
       "1              NaN            NaN              NaN           NaN   \n",
       "2              NaN            NaN              NaN           NaN   \n",
       "3              NaN            NaN              NaN           NaN   \n",
       "4              NaN            NaN              NaN           NaN   \n",
       "\n",
       "  male_basketball female_basketball  ... female_beach volleyball  \\\n",
       "0             NaN               NaN  ...                     NaN   \n",
       "1             NaN               NaN  ...                     NaN   \n",
       "2             NaN               NaN  ...                     NaN   \n",
       "3             NaN               NaN  ...                     NaN   \n",
       "4             NaN               NaN  ...                     NaN   \n",
       "\n",
       "  male_volleyball female_volleyball male_water polo female_water polo  \\\n",
       "0             NaN               NaN             NaN               NaN   \n",
       "1             NaN               NaN             NaN               NaN   \n",
       "2             NaN               NaN             NaN               NaN   \n",
       "3             NaN               NaN             NaN               NaN   \n",
       "4             NaN               NaN             NaN               NaN   \n",
       "\n",
       "  male_weightlifting female_weightlifting male_freestyle wrestling  \\\n",
       "0                NaN                  NaN                      NaN   \n",
       "1                NaN                  NaN                      NaN   \n",
       "2                NaN                  NaN                      NaN   \n",
       "3                NaN               bronze                      NaN   \n",
       "4                NaN                  NaN                      NaN   \n",
       "\n",
       "  female_freestyle wrestling male_greco-roman wrestling  \n",
       "0                        NaN                        NaN  \n",
       "1                        NaN                        NaN  \n",
       "2                        NaN                        NaN  \n",
       "3                        NaN                        NaN  \n",
       "4                        NaN                        NaN  \n",
       "\n",
       "[5 rows x 71 columns]"
      ]
     },
     "execution_count": 4,
     "metadata": {},
     "output_type": "execute_result"
    }
   ],
   "source": [
    "df.head()"
   ]
  },
  {
   "cell_type": "markdown",
   "metadata": {},
   "source": [
    "reshape the dataframe, so we do not have to look at all the other sports"
   ]
  },
  {
   "cell_type": "code",
   "execution_count": 27,
   "metadata": {},
   "outputs": [],
   "source": [
    "melted_df = pd.melt(df, id_vars=[\"medalist_name\"], var_name='Sport', value_name='Medal')"
   ]
  },
  {
   "cell_type": "markdown",
   "metadata": {},
   "source": [
    "deleting where 'Medal' is NaN because it means the athlete didn't win a medal in that sport"
   ]
  },
  {
   "cell_type": "code",
   "execution_count": 26,
   "metadata": {},
   "outputs": [
    {
     "data": {
      "text/html": [
       "<div>\n",
       "<style scoped>\n",
       "    .dataframe tbody tr th:only-of-type {\n",
       "        vertical-align: middle;\n",
       "    }\n",
       "\n",
       "    .dataframe tbody tr th {\n",
       "        vertical-align: top;\n",
       "    }\n",
       "\n",
       "    .dataframe thead th {\n",
       "        text-align: right;\n",
       "    }\n",
       "</style>\n",
       "<table border=\"1\" class=\"dataframe\">\n",
       "  <thead>\n",
       "    <tr style=\"text-align: right;\">\n",
       "      <th></th>\n",
       "      <th>medalist_name</th>\n",
       "      <th>Sport</th>\n",
       "      <th>Medal</th>\n",
       "    </tr>\n",
       "  </thead>\n",
       "  <tbody>\n",
       "    <tr>\n",
       "      <th>177</th>\n",
       "      <td>Bair Badënov</td>\n",
       "      <td>male_archery</td>\n",
       "      <td>bronze</td>\n",
       "    </tr>\n",
       "    <tr>\n",
       "      <th>676</th>\n",
       "      <td>Ilario Di Buò</td>\n",
       "      <td>male_archery</td>\n",
       "      <td>silver</td>\n",
       "    </tr>\n",
       "    <tr>\n",
       "      <th>682</th>\n",
       "      <td>Im Dong-hyun</td>\n",
       "      <td>male_archery</td>\n",
       "      <td>gold</td>\n",
       "    </tr>\n",
       "    <tr>\n",
       "      <th>760</th>\n",
       "      <td>Jiang Lin</td>\n",
       "      <td>male_archery</td>\n",
       "      <td>bronze</td>\n",
       "    </tr>\n",
       "    <tr>\n",
       "      <th>920</th>\n",
       "      <td>Lee Chang-hwan</td>\n",
       "      <td>male_archery</td>\n",
       "      <td>gold</td>\n",
       "    </tr>\n",
       "  </tbody>\n",
       "</table>\n",
       "</div>"
      ],
      "text/plain": [
       "      medalist_name         Sport   Medal\n",
       "177    Bair Badënov  male_archery  bronze\n",
       "676   Ilario Di Buò  male_archery  silver\n",
       "682    Im Dong-hyun  male_archery    gold\n",
       "760       Jiang Lin  male_archery  bronze\n",
       "920  Lee Chang-hwan  male_archery    gold"
      ]
     },
     "execution_count": 26,
     "metadata": {},
     "output_type": "execute_result"
    }
   ],
   "source": [
    "melted_df = melted_df.dropna(subset=['Medal'])\n",
    "melted_df.head()"
   ]
  },
  {
   "cell_type": "code",
   "execution_count": 40,
   "metadata": {},
   "outputs": [
    {
     "name": "stdout",
     "output_type": "stream",
     "text": [
      "<class 'pandas.core.frame.DataFrame'>\n",
      "RangeIndex: 131250 entries, 0 to 131249\n",
      "Data columns (total 3 columns):\n",
      " #   Column         Non-Null Count   Dtype \n",
      "---  ------         --------------   ----- \n",
      " 0   medalist_name  131250 non-null  object\n",
      " 1   Sport          131250 non-null  object\n",
      " 2   Medal          1875 non-null    object\n",
      "dtypes: object(3)\n",
      "memory usage: 3.0+ MB\n"
     ]
    }
   ],
   "source": [
    "melted_df.info()"
   ]
  },
  {
   "cell_type": "code",
   "execution_count": 41,
   "metadata": {},
   "outputs": [
    {
     "data": {
      "text/html": [
       "<div>\n",
       "<style scoped>\n",
       "    .dataframe tbody tr th:only-of-type {\n",
       "        vertical-align: middle;\n",
       "    }\n",
       "\n",
       "    .dataframe tbody tr th {\n",
       "        vertical-align: top;\n",
       "    }\n",
       "\n",
       "    .dataframe thead th {\n",
       "        text-align: right;\n",
       "    }\n",
       "</style>\n",
       "<table border=\"1\" class=\"dataframe\">\n",
       "  <thead>\n",
       "    <tr style=\"text-align: right;\">\n",
       "      <th></th>\n",
       "      <th>medalist_name</th>\n",
       "      <th>Sport</th>\n",
       "      <th>Medal</th>\n",
       "    </tr>\n",
       "  </thead>\n",
       "  <tbody>\n",
       "    <tr>\n",
       "      <th>count</th>\n",
       "      <td>131250</td>\n",
       "      <td>131250</td>\n",
       "      <td>1875</td>\n",
       "    </tr>\n",
       "    <tr>\n",
       "      <th>unique</th>\n",
       "      <td>1875</td>\n",
       "      <td>70</td>\n",
       "      <td>3</td>\n",
       "    </tr>\n",
       "    <tr>\n",
       "      <th>top</th>\n",
       "      <td>Aaron Armstrong</td>\n",
       "      <td>male_archery</td>\n",
       "      <td>bronze</td>\n",
       "    </tr>\n",
       "    <tr>\n",
       "      <th>freq</th>\n",
       "      <td>70</td>\n",
       "      <td>1875</td>\n",
       "      <td>668</td>\n",
       "    </tr>\n",
       "  </tbody>\n",
       "</table>\n",
       "</div>"
      ],
      "text/plain": [
       "          medalist_name         Sport   Medal\n",
       "count            131250        131250    1875\n",
       "unique             1875            70       3\n",
       "top     Aaron Armstrong  male_archery  bronze\n",
       "freq                 70          1875     668"
      ]
     },
     "execution_count": 41,
     "metadata": {},
     "output_type": "execute_result"
    }
   ],
   "source": [
    "melted_df.describe()"
   ]
  },
  {
   "cell_type": "code",
   "execution_count": 42,
   "metadata": {},
   "outputs": [
    {
     "data": {
      "text/plain": [
       "medalist_name         0\n",
       "Sport                 0\n",
       "Medal            129375\n",
       "dtype: int64"
      ]
     },
     "execution_count": 42,
     "metadata": {},
     "output_type": "execute_result"
    }
   ],
   "source": [
    "melted_df.isnull().sum()"
   ]
  },
  {
   "cell_type": "code",
   "execution_count": 63,
   "metadata": {},
   "outputs": [
    {
     "name": "stderr",
     "output_type": "stream",
     "text": [
      "/var/folders/mp/ytml7j4508v9wjxv0hpnhzlr0000gn/T/ipykernel_58783/3487160930.py:7: UserWarning: FigureCanvasAgg is non-interactive, and thus cannot be shown\n",
      "  plt.show()\n"
     ]
    }
   ],
   "source": [
    "medals_per_athlete = melted_df.groupby('medalist_name')['Medal'].count().sort_values(ascending=True)\n",
    "medals_per_athlete.head(10)\n",
    "plt.figure(figsize=(10, 6))\n",
    "medals_per_athlete.head(10).plot(kind='bar')\n",
    "plt.title('Top 10 Athletes by Number of Medals')\n",
    "plt.bar(\"medalist_name\", \"Medal\")\n",
    "plt.show()"
   ]
  },
  {
   "cell_type": "code",
   "execution_count": 62,
   "metadata": {},
   "outputs": [
    {
     "name": "stdout",
     "output_type": "stream",
     "text": [
      "Medal                        bronze  gold  silver\n",
      "Sport                                            \n",
      "female_archery                    4     2       3\n",
      "female_artistic gymnastics        7     7       6\n",
      "female_association football      18    18      18\n",
      "female_athletics                 26    27      28\n",
      "female_badminton                  3     3       4\n",
      "...                             ...   ...     ...\n",
      "male_trampoline gymnastics        1     1       1\n",
      "male_triathlon                    1     1       1\n",
      "male_volleyball                  12    12      12\n",
      "male_water polo                  13    13      13\n",
      "male_weightlifting                8     8       8\n",
      "\n",
      "[70 rows x 3 columns]\n"
     ]
    },
    {
     "name": "stderr",
     "output_type": "stream",
     "text": [
      "/var/folders/mp/ytml7j4508v9wjxv0hpnhzlr0000gn/T/ipykernel_58783/530033169.py:5: UserWarning: FigureCanvasAgg is non-interactive, and thus cannot be shown\n",
      "  plt.show()\n"
     ]
    }
   ],
   "source": [
    "sport_medal_ct = pd.crosstab(melted_df['Sport'], melted_df['Medal'])\n",
    "print(sport_medal_ct)\n",
    "sns.heatmap(sport_medal_ct, annot=True, fmt=\"d\", cmap='Blues')\n",
    "plt.title('Medal Types Distribution Across Sports')\n",
    "plt.show()"
   ]
  },
  {
   "cell_type": "markdown",
   "metadata": {},
   "source": []
  }
 ],
 "metadata": {
  "kernelspec": {
   "display_name": "base",
   "language": "python",
   "name": "python3"
  },
  "language_info": {
   "codemirror_mode": {
    "name": "ipython",
    "version": 3
   },
   "file_extension": ".py",
   "mimetype": "text/x-python",
   "name": "python",
   "nbconvert_exporter": "python",
   "pygments_lexer": "ipython3",
   "version": "3.12.7"
  }
 },
 "nbformat": 4,
 "nbformat_minor": 2
}
